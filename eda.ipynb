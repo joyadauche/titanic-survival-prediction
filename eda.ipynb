{
 "cells": [
  {
   "cell_type": "markdown",
   "metadata": {},
   "source": [
    "## EDA: PART A"
   ]
  },
  {
   "cell_type": "code",
   "execution_count": 1,
   "metadata": {},
   "outputs": [],
   "source": [
    "import pandas as pd\n",
    "import numpy as np\n",
    "import matplotlib.pyplot as plt\n",
    "import seaborn as sns\n",
    "import warnings\n",
    "\n",
    "warnings.simplefilter(action='ignore')\n",
    "pd.set_option('display.max_columns', None)\n",
    "pd.set_option('display.max_rows', None)\n",
    "pd.set_option('display.width', None)\n",
    "\n",
    "sns.set_style('whitegrid')"
   ]
  },
  {
   "cell_type": "code",
   "execution_count": 2,
   "metadata": {},
   "outputs": [
    {
     "data": {
      "text/plain": [
       "(891, 12)"
      ]
     },
     "execution_count": 2,
     "metadata": {},
     "output_type": "execute_result"
    }
   ],
   "source": [
    "train_df = pd.read_csv('train.csv')\n",
    "\n",
    "train_df.shape"
   ]
  },
  {
   "cell_type": "code",
   "execution_count": 3,
   "metadata": {},
   "outputs": [
    {
     "data": {
      "text/html": [
       "<div>\n",
       "<style scoped>\n",
       "    .dataframe tbody tr th:only-of-type {\n",
       "        vertical-align: middle;\n",
       "    }\n",
       "\n",
       "    .dataframe tbody tr th {\n",
       "        vertical-align: top;\n",
       "    }\n",
       "\n",
       "    .dataframe thead th {\n",
       "        text-align: right;\n",
       "    }\n",
       "</style>\n",
       "<table border=\"1\" class=\"dataframe\">\n",
       "  <thead>\n",
       "    <tr style=\"text-align: right;\">\n",
       "      <th></th>\n",
       "      <th>PassengerId</th>\n",
       "      <th>Survived</th>\n",
       "      <th>Pclass</th>\n",
       "      <th>Name</th>\n",
       "      <th>Sex</th>\n",
       "      <th>Age</th>\n",
       "      <th>SibSp</th>\n",
       "      <th>Parch</th>\n",
       "      <th>Ticket</th>\n",
       "      <th>Fare</th>\n",
       "      <th>Cabin</th>\n",
       "      <th>Embarked</th>\n",
       "    </tr>\n",
       "  </thead>\n",
       "  <tbody>\n",
       "    <tr>\n",
       "      <th>0</th>\n",
       "      <td>1</td>\n",
       "      <td>0</td>\n",
       "      <td>3</td>\n",
       "      <td>Braund, Mr. Owen Harris</td>\n",
       "      <td>male</td>\n",
       "      <td>22.0</td>\n",
       "      <td>1</td>\n",
       "      <td>0</td>\n",
       "      <td>A/5 21171</td>\n",
       "      <td>7.2500</td>\n",
       "      <td>NaN</td>\n",
       "      <td>S</td>\n",
       "    </tr>\n",
       "    <tr>\n",
       "      <th>1</th>\n",
       "      <td>2</td>\n",
       "      <td>1</td>\n",
       "      <td>1</td>\n",
       "      <td>Cumings, Mrs. John Bradley (Florence Briggs Th...</td>\n",
       "      <td>female</td>\n",
       "      <td>38.0</td>\n",
       "      <td>1</td>\n",
       "      <td>0</td>\n",
       "      <td>PC 17599</td>\n",
       "      <td>71.2833</td>\n",
       "      <td>C85</td>\n",
       "      <td>C</td>\n",
       "    </tr>\n",
       "    <tr>\n",
       "      <th>2</th>\n",
       "      <td>3</td>\n",
       "      <td>1</td>\n",
       "      <td>3</td>\n",
       "      <td>Heikkinen, Miss. Laina</td>\n",
       "      <td>female</td>\n",
       "      <td>26.0</td>\n",
       "      <td>0</td>\n",
       "      <td>0</td>\n",
       "      <td>STON/O2. 3101282</td>\n",
       "      <td>7.9250</td>\n",
       "      <td>NaN</td>\n",
       "      <td>S</td>\n",
       "    </tr>\n",
       "    <tr>\n",
       "      <th>3</th>\n",
       "      <td>4</td>\n",
       "      <td>1</td>\n",
       "      <td>1</td>\n",
       "      <td>Futrelle, Mrs. Jacques Heath (Lily May Peel)</td>\n",
       "      <td>female</td>\n",
       "      <td>35.0</td>\n",
       "      <td>1</td>\n",
       "      <td>0</td>\n",
       "      <td>113803</td>\n",
       "      <td>53.1000</td>\n",
       "      <td>C123</td>\n",
       "      <td>S</td>\n",
       "    </tr>\n",
       "    <tr>\n",
       "      <th>4</th>\n",
       "      <td>5</td>\n",
       "      <td>0</td>\n",
       "      <td>3</td>\n",
       "      <td>Allen, Mr. William Henry</td>\n",
       "      <td>male</td>\n",
       "      <td>35.0</td>\n",
       "      <td>0</td>\n",
       "      <td>0</td>\n",
       "      <td>373450</td>\n",
       "      <td>8.0500</td>\n",
       "      <td>NaN</td>\n",
       "      <td>S</td>\n",
       "    </tr>\n",
       "    <tr>\n",
       "      <th>5</th>\n",
       "      <td>6</td>\n",
       "      <td>0</td>\n",
       "      <td>3</td>\n",
       "      <td>Moran, Mr. James</td>\n",
       "      <td>male</td>\n",
       "      <td>NaN</td>\n",
       "      <td>0</td>\n",
       "      <td>0</td>\n",
       "      <td>330877</td>\n",
       "      <td>8.4583</td>\n",
       "      <td>NaN</td>\n",
       "      <td>Q</td>\n",
       "    </tr>\n",
       "    <tr>\n",
       "      <th>6</th>\n",
       "      <td>7</td>\n",
       "      <td>0</td>\n",
       "      <td>1</td>\n",
       "      <td>McCarthy, Mr. Timothy J</td>\n",
       "      <td>male</td>\n",
       "      <td>54.0</td>\n",
       "      <td>0</td>\n",
       "      <td>0</td>\n",
       "      <td>17463</td>\n",
       "      <td>51.8625</td>\n",
       "      <td>E46</td>\n",
       "      <td>S</td>\n",
       "    </tr>\n",
       "    <tr>\n",
       "      <th>7</th>\n",
       "      <td>8</td>\n",
       "      <td>0</td>\n",
       "      <td>3</td>\n",
       "      <td>Palsson, Master. Gosta Leonard</td>\n",
       "      <td>male</td>\n",
       "      <td>2.0</td>\n",
       "      <td>3</td>\n",
       "      <td>1</td>\n",
       "      <td>349909</td>\n",
       "      <td>21.0750</td>\n",
       "      <td>NaN</td>\n",
       "      <td>S</td>\n",
       "    </tr>\n",
       "    <tr>\n",
       "      <th>8</th>\n",
       "      <td>9</td>\n",
       "      <td>1</td>\n",
       "      <td>3</td>\n",
       "      <td>Johnson, Mrs. Oscar W (Elisabeth Vilhelmina Berg)</td>\n",
       "      <td>female</td>\n",
       "      <td>27.0</td>\n",
       "      <td>0</td>\n",
       "      <td>2</td>\n",
       "      <td>347742</td>\n",
       "      <td>11.1333</td>\n",
       "      <td>NaN</td>\n",
       "      <td>S</td>\n",
       "    </tr>\n",
       "    <tr>\n",
       "      <th>9</th>\n",
       "      <td>10</td>\n",
       "      <td>1</td>\n",
       "      <td>2</td>\n",
       "      <td>Nasser, Mrs. Nicholas (Adele Achem)</td>\n",
       "      <td>female</td>\n",
       "      <td>14.0</td>\n",
       "      <td>1</td>\n",
       "      <td>0</td>\n",
       "      <td>237736</td>\n",
       "      <td>30.0708</td>\n",
       "      <td>NaN</td>\n",
       "      <td>C</td>\n",
       "    </tr>\n",
       "  </tbody>\n",
       "</table>\n",
       "</div>"
      ],
      "text/plain": [
       "   PassengerId  Survived  Pclass  \\\n",
       "0            1         0       3   \n",
       "1            2         1       1   \n",
       "2            3         1       3   \n",
       "3            4         1       1   \n",
       "4            5         0       3   \n",
       "5            6         0       3   \n",
       "6            7         0       1   \n",
       "7            8         0       3   \n",
       "8            9         1       3   \n",
       "9           10         1       2   \n",
       "\n",
       "                                                Name     Sex   Age  SibSp  \\\n",
       "0                            Braund, Mr. Owen Harris    male  22.0      1   \n",
       "1  Cumings, Mrs. John Bradley (Florence Briggs Th...  female  38.0      1   \n",
       "2                             Heikkinen, Miss. Laina  female  26.0      0   \n",
       "3       Futrelle, Mrs. Jacques Heath (Lily May Peel)  female  35.0      1   \n",
       "4                           Allen, Mr. William Henry    male  35.0      0   \n",
       "5                                   Moran, Mr. James    male   NaN      0   \n",
       "6                            McCarthy, Mr. Timothy J    male  54.0      0   \n",
       "7                     Palsson, Master. Gosta Leonard    male   2.0      3   \n",
       "8  Johnson, Mrs. Oscar W (Elisabeth Vilhelmina Berg)  female  27.0      0   \n",
       "9                Nasser, Mrs. Nicholas (Adele Achem)  female  14.0      1   \n",
       "\n",
       "   Parch            Ticket     Fare Cabin Embarked  \n",
       "0      0         A/5 21171   7.2500   NaN        S  \n",
       "1      0          PC 17599  71.2833   C85        C  \n",
       "2      0  STON/O2. 3101282   7.9250   NaN        S  \n",
       "3      0            113803  53.1000  C123        S  \n",
       "4      0            373450   8.0500   NaN        S  \n",
       "5      0            330877   8.4583   NaN        Q  \n",
       "6      0             17463  51.8625   E46        S  \n",
       "7      1            349909  21.0750   NaN        S  \n",
       "8      2            347742  11.1333   NaN        S  \n",
       "9      0            237736  30.0708   NaN        C  "
      ]
     },
     "execution_count": 3,
     "metadata": {},
     "output_type": "execute_result"
    }
   ],
   "source": [
    "train_df.head(10)"
   ]
  },
  {
   "cell_type": "code",
   "execution_count": 4,
   "metadata": {},
   "outputs": [
    {
     "data": {
      "text/plain": [
       "Index(['PassengerId', 'Survived', 'Pclass', 'Name', 'Sex', 'Age', 'SibSp',\n",
       "       'Parch', 'Ticket', 'Fare', 'Cabin', 'Embarked'],\n",
       "      dtype='object')"
      ]
     },
     "execution_count": 4,
     "metadata": {},
     "output_type": "execute_result"
    }
   ],
   "source": [
    "train_df.columns"
   ]
  },
  {
   "cell_type": "code",
   "execution_count": 5,
   "metadata": {},
   "outputs": [
    {
     "data": {
      "text/plain": [
       "PassengerId      int64\n",
       "Survived         int64\n",
       "Pclass           int64\n",
       "Name            object\n",
       "Sex             object\n",
       "Age            float64\n",
       "SibSp            int64\n",
       "Parch            int64\n",
       "Ticket          object\n",
       "Fare           float64\n",
       "Cabin           object\n",
       "Embarked        object\n",
       "dtype: object"
      ]
     },
     "execution_count": 5,
     "metadata": {},
     "output_type": "execute_result"
    }
   ],
   "source": [
    "train_df.dtypes"
   ]
  },
  {
   "cell_type": "code",
   "execution_count": 6,
   "metadata": {},
   "outputs": [
    {
     "name": "stdout",
     "output_type": "stream",
     "text": [
      "<class 'pandas.core.frame.DataFrame'>\n",
      "RangeIndex: 891 entries, 0 to 890\n",
      "Data columns (total 12 columns):\n",
      "PassengerId    891 non-null int64\n",
      "Survived       891 non-null int64\n",
      "Pclass         891 non-null int64\n",
      "Name           891 non-null object\n",
      "Sex            891 non-null object\n",
      "Age            714 non-null float64\n",
      "SibSp          891 non-null int64\n",
      "Parch          891 non-null int64\n",
      "Ticket         891 non-null object\n",
      "Fare           891 non-null float64\n",
      "Cabin          204 non-null object\n",
      "Embarked       889 non-null object\n",
      "dtypes: float64(2), int64(5), object(5)\n",
      "memory usage: 83.7+ KB\n"
     ]
    }
   ],
   "source": [
    "train_df.info()"
   ]
  },
  {
   "cell_type": "markdown",
   "metadata": {},
   "source": [
    "## EDA: PART B"
   ]
  },
  {
   "cell_type": "code",
   "execution_count": 7,
   "metadata": {},
   "outputs": [
    {
     "data": {
      "text/html": [
       "<div>\n",
       "<style scoped>\n",
       "    .dataframe tbody tr th:only-of-type {\n",
       "        vertical-align: middle;\n",
       "    }\n",
       "\n",
       "    .dataframe tbody tr th {\n",
       "        vertical-align: top;\n",
       "    }\n",
       "\n",
       "    .dataframe thead th {\n",
       "        text-align: right;\n",
       "    }\n",
       "</style>\n",
       "<table border=\"1\" class=\"dataframe\">\n",
       "  <thead>\n",
       "    <tr style=\"text-align: right;\">\n",
       "      <th></th>\n",
       "      <th>Survived</th>\n",
       "      <th>Pclass</th>\n",
       "      <th>Age</th>\n",
       "      <th>SibSp</th>\n",
       "      <th>Parch</th>\n",
       "      <th>Fare</th>\n",
       "    </tr>\n",
       "  </thead>\n",
       "  <tbody>\n",
       "    <tr>\n",
       "      <th>count</th>\n",
       "      <td>891.000000</td>\n",
       "      <td>891.000000</td>\n",
       "      <td>714.000000</td>\n",
       "      <td>891.000000</td>\n",
       "      <td>891.000000</td>\n",
       "      <td>891.000000</td>\n",
       "    </tr>\n",
       "    <tr>\n",
       "      <th>mean</th>\n",
       "      <td>0.383838</td>\n",
       "      <td>2.308642</td>\n",
       "      <td>29.699118</td>\n",
       "      <td>0.523008</td>\n",
       "      <td>0.381594</td>\n",
       "      <td>32.204208</td>\n",
       "    </tr>\n",
       "    <tr>\n",
       "      <th>std</th>\n",
       "      <td>0.486592</td>\n",
       "      <td>0.836071</td>\n",
       "      <td>14.526497</td>\n",
       "      <td>1.102743</td>\n",
       "      <td>0.806057</td>\n",
       "      <td>49.693429</td>\n",
       "    </tr>\n",
       "    <tr>\n",
       "      <th>min</th>\n",
       "      <td>0.000000</td>\n",
       "      <td>1.000000</td>\n",
       "      <td>0.420000</td>\n",
       "      <td>0.000000</td>\n",
       "      <td>0.000000</td>\n",
       "      <td>0.000000</td>\n",
       "    </tr>\n",
       "    <tr>\n",
       "      <th>25%</th>\n",
       "      <td>0.000000</td>\n",
       "      <td>2.000000</td>\n",
       "      <td>20.125000</td>\n",
       "      <td>0.000000</td>\n",
       "      <td>0.000000</td>\n",
       "      <td>7.910400</td>\n",
       "    </tr>\n",
       "    <tr>\n",
       "      <th>50%</th>\n",
       "      <td>0.000000</td>\n",
       "      <td>3.000000</td>\n",
       "      <td>28.000000</td>\n",
       "      <td>0.000000</td>\n",
       "      <td>0.000000</td>\n",
       "      <td>14.454200</td>\n",
       "    </tr>\n",
       "    <tr>\n",
       "      <th>75%</th>\n",
       "      <td>1.000000</td>\n",
       "      <td>3.000000</td>\n",
       "      <td>38.000000</td>\n",
       "      <td>1.000000</td>\n",
       "      <td>0.000000</td>\n",
       "      <td>31.000000</td>\n",
       "    </tr>\n",
       "    <tr>\n",
       "      <th>max</th>\n",
       "      <td>1.000000</td>\n",
       "      <td>3.000000</td>\n",
       "      <td>80.000000</td>\n",
       "      <td>8.000000</td>\n",
       "      <td>6.000000</td>\n",
       "      <td>512.329200</td>\n",
       "    </tr>\n",
       "  </tbody>\n",
       "</table>\n",
       "</div>"
      ],
      "text/plain": [
       "         Survived      Pclass         Age       SibSp       Parch        Fare\n",
       "count  891.000000  891.000000  714.000000  891.000000  891.000000  891.000000\n",
       "mean     0.383838    2.308642   29.699118    0.523008    0.381594   32.204208\n",
       "std      0.486592    0.836071   14.526497    1.102743    0.806057   49.693429\n",
       "min      0.000000    1.000000    0.420000    0.000000    0.000000    0.000000\n",
       "25%      0.000000    2.000000   20.125000    0.000000    0.000000    7.910400\n",
       "50%      0.000000    3.000000   28.000000    0.000000    0.000000   14.454200\n",
       "75%      1.000000    3.000000   38.000000    1.000000    0.000000   31.000000\n",
       "max      1.000000    3.000000   80.000000    8.000000    6.000000  512.329200"
      ]
     },
     "execution_count": 7,
     "metadata": {},
     "output_type": "execute_result"
    }
   ],
   "source": [
    "train_df.drop('PassengerId', axis=1).describe()"
   ]
  },
  {
   "cell_type": "code",
   "execution_count": 8,
   "metadata": {},
   "outputs": [],
   "source": [
    "def label_chart(plot, points='.0f'):\n",
    "    for p in plot.patches:\n",
    "        plot.annotate(format(p.get_height(), points), \n",
    "                       (p.get_x() + p.get_width() / 2., p.get_height()), \n",
    "                       ha = 'center', va = 'center', \n",
    "                       xytext = (0, 9), \n",
    "                       textcoords = 'offset points')"
   ]
  },
  {
   "cell_type": "code",
   "execution_count": 9,
   "metadata": {},
   "outputs": [
    {
     "data": {
      "text/plain": [
       "0    549\n",
       "1    342\n",
       "Name: Survived, dtype: int64"
      ]
     },
     "execution_count": 9,
     "metadata": {},
     "output_type": "execute_result"
    }
   ],
   "source": [
    "train_df['Survived'].value_counts()"
   ]
  },
  {
   "cell_type": "code",
   "execution_count": 10,
   "metadata": {},
   "outputs": [
    {
     "data": {
      "text/plain": [
       "0    61.62\n",
       "1    38.38\n",
       "Name: Survived, dtype: float64"
      ]
     },
     "execution_count": 10,
     "metadata": {},
     "output_type": "execute_result"
    }
   ],
   "source": [
    "round(train_df['Survived'].value_counts(normalize=True)*100, 2)"
   ]
  },
  {
   "cell_type": "code",
   "execution_count": 11,
   "metadata": {},
   "outputs": [
    {
     "data": {
      "image/png": "[encoded data removed]",
      "text/plain": [
       "<Figure size 432x288 with 1 Axes>"
      ]
     },
     "metadata": {
      "needs_background": "light"
     },
     "output_type": "display_data"
    }
   ],
   "source": [
    "label_chart(sns.countplot(train_df['Survived']))"
   ]
  },
  {
   "cell_type": "code",
   "execution_count": 12,
   "metadata": {},
   "outputs": [
    {
     "data": {
      "text/plain": [
       "3    491\n",
       "1    216\n",
       "2    184\n",
       "Name: Pclass, dtype: int64"
      ]
     },
     "execution_count": 12,
     "metadata": {},
     "output_type": "execute_result"
    }
   ],
   "source": [
    "train_df['Pclass'].value_counts()"
   ]
  },
  {
   "cell_type": "code",
   "execution_count": 13,
   "metadata": {},
   "outputs": [
    {
     "data": {
      "text/plain": [
       "3    55.11\n",
       "1    24.24\n",
       "2    20.65\n",
       "Name: Pclass, dtype: float64"
      ]
     },
     "execution_count": 13,
     "metadata": {},
     "output_type": "execute_result"
    }
   ],
   "source": [
    "round(train_df['Pclass'].value_counts(normalize=True)*100, 2)"
   ]
  },
  {
   "cell_type": "code",
   "execution_count": 14,
   "metadata": {},
   "outputs": [
    {
     "data": {
      "image/png": "[encoded data removed]",
      "text/plain": [
       "<Figure size 432x288 with 1 Axes>"
      ]
     },
     "metadata": {
      "needs_background": "light"
     },
     "output_type": "display_data"
    }
   ],
   "source": [
    "label_chart(sns.countplot(train_df['Pclass']))"
   ]
  },
  {
   "cell_type": "code",
   "execution_count": 15,
   "metadata": {},
   "outputs": [
    {
     "data": {
      "text/plain": [
       "male      577\n",
       "female    314\n",
       "Name: Sex, dtype: int64"
      ]
     },
     "execution_count": 15,
     "metadata": {},
     "output_type": "execute_result"
    }
   ],
   "source": [
    "train_df['Sex'].value_counts()"
   ]
  },
  {
   "cell_type": "code",
   "execution_count": 16,
   "metadata": {},
   "outputs": [
    {
     "data": {
      "text/plain": [
       "male      64.76\n",
       "female    35.24\n",
       "Name: Sex, dtype: float64"
      ]
     },
     "execution_count": 16,
     "metadata": {},
     "output_type": "execute_result"
    }
   ],
   "source": [
    "round(train_df['Sex'].value_counts(normalize=True)*100, 2)"
   ]
  },
  {
   "cell_type": "code",
   "execution_count": 17,
   "metadata": {},
   "outputs": [
    {
     "data": {
      "image/png": "[encoded data removed]",
      "text/plain": [
       "<Figure size 432x288 with 1 Axes>"
      ]
     },
     "metadata": {
      "needs_background": "light"
     },
     "output_type": "display_data"
    }
   ],
   "source": [
    "label_chart(sns.countplot(train_df['Sex']))"
   ]
  },
  {
   "cell_type": "code",
   "execution_count": 18,
   "metadata": {},
   "outputs": [
    {
     "data": {
      "text/plain": [
       "S    644\n",
       "C    168\n",
       "Q     77\n",
       "Name: Embarked, dtype: int64"
      ]
     },
     "execution_count": 18,
     "metadata": {},
     "output_type": "execute_result"
    }
   ],
   "source": [
    "train_df['Embarked'].value_counts()"
   ]
  },
  {
   "cell_type": "code",
   "execution_count": 19,
   "metadata": {},
   "outputs": [
    {
     "data": {
      "text/plain": [
       "S    72.44\n",
       "C    18.90\n",
       "Q     8.66\n",
       "Name: Embarked, dtype: float64"
      ]
     },
     "execution_count": 19,
     "metadata": {},
     "output_type": "execute_result"
    }
   ],
   "source": [
    "round(train_df['Embarked'].value_counts(normalize=True)*100, 2)"
   ]
  },
  {
   "cell_type": "code",
   "execution_count": 20,
   "metadata": {},
   "outputs": [
    {
     "data": {
      "image/png": "[encoded data removed]",
      "text/plain": [
       "<Figure size 432x288 with 1 Axes>"
      ]
     },
     "metadata": {
      "needs_background": "light"
     },
     "output_type": "display_data"
    }
   ],
   "source": [
    "label_chart(sns.countplot(train_df['Embarked']))"
   ]
  },
  {
   "cell_type": "code",
   "execution_count": 21,
   "metadata": {},
   "outputs": [
    {
     "data": {
      "text/plain": [
       "0    608\n",
       "1    209\n",
       "2     28\n",
       "4     18\n",
       "3     16\n",
       "8      7\n",
       "5      5\n",
       "Name: SibSp, dtype: int64"
      ]
     },
     "execution_count": 21,
     "metadata": {},
     "output_type": "execute_result"
    }
   ],
   "source": [
    "train_df['SibSp'].value_counts()"
   ]
  },
  {
   "cell_type": "code",
   "execution_count": 22,
   "metadata": {},
   "outputs": [
    {
     "data": {
      "text/plain": [
       "0    68.24\n",
       "1    23.46\n",
       "2     3.14\n",
       "4     2.02\n",
       "3     1.80\n",
       "8     0.79\n",
       "5     0.56\n",
       "Name: SibSp, dtype: float64"
      ]
     },
     "execution_count": 22,
     "metadata": {},
     "output_type": "execute_result"
    }
   ],
   "source": [
    "round(train_df['SibSp'].value_counts(normalize=True)*100, 2)"
   ]
  },
  {
   "cell_type": "code",
   "execution_count": 23,
   "metadata": {},
   "outputs": [
    {
     "data": {
      "image/png": "[encoded data removed]",
      "text/plain": [
       "<Figure size 432x288 with 1 Axes>"
      ]
     },
     "metadata": {
      "needs_background": "light"
     },
     "output_type": "display_data"
    }
   ],
   "source": [
    "label_chart(sns.countplot(train_df['SibSp']))"
   ]
  },
  {
   "cell_type": "code",
   "execution_count": 24,
   "metadata": {},
   "outputs": [
    {
     "data": {
      "text/plain": [
       "0    678\n",
       "1    118\n",
       "2     80\n",
       "5      5\n",
       "3      5\n",
       "4      4\n",
       "6      1\n",
       "Name: Parch, dtype: int64"
      ]
     },
     "execution_count": 24,
     "metadata": {},
     "output_type": "execute_result"
    }
   ],
   "source": [
    "train_df['Parch'].value_counts()"
   ]
  },
  {
   "cell_type": "code",
   "execution_count": 25,
   "metadata": {},
   "outputs": [
    {
     "data": {
      "text/plain": [
       "0    76.09\n",
       "1    13.24\n",
       "2     8.98\n",
       "5     0.56\n",
       "3     0.56\n",
       "4     0.45\n",
       "6     0.11\n",
       "Name: Parch, dtype: float64"
      ]
     },
     "execution_count": 25,
     "metadata": {},
     "output_type": "execute_result"
    }
   ],
   "source": [
    "round(train_df['Parch'].value_counts(normalize=True)*100, 2)"
   ]
  },
  {
   "cell_type": "code",
   "execution_count": 26,
   "metadata": {},
   "outputs": [
    {
     "data": {
      "image/png": "[encoded data removed]",
      "text/plain": [
       "<Figure size 432x288 with 1 Axes>"
      ]
     },
     "metadata": {
      "needs_background": "light"
     },
     "output_type": "display_data"
    }
   ],
   "source": [
    "label_chart(sns.countplot(train_df['Parch']))"
   ]
  },
  {
   "cell_type": "code",
   "execution_count": 27,
   "metadata": {},
   "outputs": [
    {
     "data": {
      "text/plain": [
       "347082                7\n",
       "1601                  7\n",
       "CA. 2343              7\n",
       "CA 2144               6\n",
       "347088                6\n",
       "3101295               6\n",
       "S.O.C. 14879          5\n",
       "382652                5\n",
       "4133                  4\n",
       "347077                4\n",
       "19950                 4\n",
       "2666                  4\n",
       "LINE                  4\n",
       "349909                4\n",
       "113760                4\n",
       "PC 17757              4\n",
       "W./C. 6608            4\n",
       "113781                4\n",
       "17421                 4\n",
       "24160                 3\n",
       "363291                3\n",
       "F.C.C. 13529          3\n",
       "35273                 3\n",
       "239853                3\n",
       "347742                3\n",
       "PC 17582              3\n",
       "230080                3\n",
       "PC 17755              3\n",
       "SC/Paris 2123         3\n",
       "PC 17572              3\n",
       "110413                3\n",
       "345773                3\n",
       "13502                 3\n",
       "C.A. 34651            3\n",
       "C.A. 31921            3\n",
       "29106                 3\n",
       "371110                3\n",
       "248727                3\n",
       "PC 17760              3\n",
       "110152                3\n",
       "2908                  2\n",
       "239865                2\n",
       "35281                 2\n",
       "110465                2\n",
       "A/5. 3336             2\n",
       "230136                2\n",
       "230433                2\n",
       "11751                 2\n",
       "PC 17761              2\n",
       "19996                 2\n",
       "36928                 2\n",
       "113798                2\n",
       "243847                2\n",
       "PC 17477              2\n",
       "113789                2\n",
       "345764                2\n",
       "12749                 2\n",
       "3101278               2\n",
       "2651                  2\n",
       "220845                2\n",
       "2678                  2\n",
       "19877                 2\n",
       "C.A. 37671            2\n",
       "2699                  2\n",
       "WE/P 5735             2\n",
       "2661                  2\n",
       "54636                 2\n",
       "7534                  2\n",
       "349237                2\n",
       "111361                2\n",
       "STON/O2. 3101279      2\n",
       "113505                2\n",
       "2691                  2\n",
       "PC 17593              2\n",
       "367226                2\n",
       "PC 17558              2\n",
       "347080                2\n",
       "244252                2\n",
       "PP 9549               2\n",
       "17474                 2\n",
       "244367                2\n",
       "250647                2\n",
       "PC 17608              2\n",
       "2659                  2\n",
       "358585                2\n",
       "250644                2\n",
       "S.O./P.P. 3           2\n",
       "2653                  2\n",
       "P/PP 3381             2\n",
       "W./C. 6607            2\n",
       "PC 17569              2\n",
       "231919                2\n",
       "370365                2\n",
       "PC 17604              2\n",
       "26360                 2\n",
       "11668                 2\n",
       "17453                 2\n",
       "364849                2\n",
       "13507                 2\n",
       "113776                2\n",
       "19928                 2\n",
       "16966                 2\n",
       "PC 17485              2\n",
       "237736                2\n",
       "11967                 2\n",
       "36947                 2\n",
       "11767                 2\n",
       "28403                 2\n",
       "C.A. 2315             2\n",
       "113806                2\n",
       "A/4 48871             2\n",
       "367230                2\n",
       "31027                 2\n",
       "C.A. 2673             2\n",
       "250655                2\n",
       "C.A. 33112            2\n",
       "364516                2\n",
       "PC 17758              2\n",
       "19943                 2\n",
       "PC 17611              2\n",
       "250649                2\n",
       "376564                2\n",
       "2668                  2\n",
       "S.C./PARIS 2079       2\n",
       "2665                  2\n",
       "347054                2\n",
       "113572                2\n",
       "29750                 2\n",
       "248738                2\n",
       "2627                  2\n",
       "370129                2\n",
       "113803                2\n",
       "392096                2\n",
       "36973                 2\n",
       "113767                1\n",
       "345364                1\n",
       "349243                1\n",
       "PC 17473              1\n",
       "2690                  1\n",
       "SOTON/O.Q. 3101306    1\n",
       "111426                1\n",
       "350052                1\n",
       "7545                  1\n",
       "330979                1\n",
       "PC 17603              1\n",
       "347470                1\n",
       "113501                1\n",
       "STON/O 2. 3101293     1\n",
       "113509                1\n",
       "2664                  1\n",
       "349212                1\n",
       "PC 17476              1\n",
       "7553                  1\n",
       "349222                1\n",
       "315098                1\n",
       "237671                1\n",
       "STON/O 2. 3101285     1\n",
       "364499                1\n",
       "PC 17475              1\n",
       "113514                1\n",
       "113783                1\n",
       "345770                1\n",
       "STON/O 2. 3101286     1\n",
       "28425                 1\n",
       "315093                1\n",
       "28664                 1\n",
       "250648                1\n",
       "113800                1\n",
       "17764                 1\n",
       "PC 17595              1\n",
       "STON/O 2. 3101274     1\n",
       "312993                1\n",
       "312992                1\n",
       "SC/PARIS 2146         1\n",
       "348124                1\n",
       "F.C.C. 13528          1\n",
       "223596                1\n",
       "349206                1\n",
       "PC 17612              1\n",
       "29108                 1\n",
       "17465                 1\n",
       "17466                 1\n",
       "113786                1\n",
       "C.A. 34260            1\n",
       "F.C. 12750            1\n",
       "C.A. 29566            1\n",
       "2631                  1\n",
       "113510                1\n",
       "W/C 14208             1\n",
       "36568                 1\n",
       "7267                  1\n",
       "368703                1\n",
       "350025                1\n",
       "111320                1\n",
       "SC/PARIS 2167         1\n",
       "STON/O2. 3101271      1\n",
       "2695                  1\n",
       "A/S 2816              1\n",
       "A/4 45380             1\n",
       "112277                1\n",
       "350050                1\n",
       "27849                 1\n",
       "239856                1\n",
       "364498                1\n",
       "350036                1\n",
       "2624                  1\n",
       "113043                1\n",
       "350034                1\n",
       "347085                1\n",
       "3101281               1\n",
       "36209                 1\n",
       "PP 4348               1\n",
       "C.A. 31026            1\n",
       "347466                1\n",
       "345779                1\n",
       "2649                  1\n",
       "C.A. 29395            1\n",
       "SOTON/OQ 3101317      1\n",
       "367228                1\n",
       "349249                1\n",
       "349213                1\n",
       "SOTON/O.Q. 3101307    1\n",
       "2674                  1\n",
       "228414                1\n",
       "323951                1\n",
       "28551                 1\n",
       "34218                 1\n",
       "13509                 1\n",
       "C.A. 24579            1\n",
       "PC 17482              1\n",
       "335677                1\n",
       "330909                1\n",
       "370370                1\n",
       "2650                  1\n",
       "365226                1\n",
       "14973                 1\n",
       "248706                1\n",
       "347062                1\n",
       "345778                1\n",
       "A/5 2817              1\n",
       "112058                1\n",
       "315088                1\n",
       "350029                1\n",
       "350406                1\n",
       "17464                 1\n",
       "336439                1\n",
       "370376                1\n",
       "7552                  1\n",
       "S.P. 3464             1\n",
       "349257                1\n",
       "349242                1\n",
       "347464                1\n",
       "A/5 21173             1\n",
       "112053                1\n",
       "13049                 1\n",
       "36963                 1\n",
       "237442                1\n",
       "112052                1\n",
       "2628                  1\n",
       "347078                1\n",
       "27042                 1\n",
       "28228                 1\n",
       "367232                1\n",
       "14312                 1\n",
       "244310                1\n",
       "330959                1\n",
       "SOTON/OQ 392082       1\n",
       "A/5. 10482            1\n",
       "350042                1\n",
       "3474                  1\n",
       "2697                  1\n",
       "113792                1\n",
       "113787                1\n",
       "3101296               1\n",
       "A4. 54510             1\n",
       "36864                 1\n",
       "248731                1\n",
       "A/4. 34244            1\n",
       "2648                  1\n",
       "363592                1\n",
       "350026                1\n",
       "364512                1\n",
       "370375                1\n",
       "SOTON/O.Q. 3101312    1\n",
       "237789                1\n",
       "364848                1\n",
       "237668                1\n",
       "STON/O2. 3101282      1\n",
       "PC 17609              1\n",
       "248747                1\n",
       "14313                 1\n",
       "372622                1\n",
       "345763                1\n",
       "347068                1\n",
       "4137                  1\n",
       "STON/O 2. 3101273     1\n",
       "SOTON/O2 3101272      1\n",
       "SOTON/OQ 392089       1\n",
       "11813                 1\n",
       "315037                1\n",
       "229236                1\n",
       "3101277               1\n",
       "349912                1\n",
       "113051                1\n",
       "113807                1\n",
       "330958                1\n",
       "211536                1\n",
       "110564                1\n",
       "SC/PARIS 2149         1\n",
       "349219                1\n",
       "SOTON/OQ 392076       1\n",
       "341826                1\n",
       "695                   1\n",
       "349241                1\n",
       "250652                1\n",
       "330931                1\n",
       "349228                1\n",
       "19952                 1\n",
       "347073                1\n",
       "SOTON/O.Q. 3101310    1\n",
       "11755                 1\n",
       "36967                 1\n",
       "244278                1\n",
       "693                   1\n",
       "315094                1\n",
       "2677                  1\n",
       "347083                1\n",
       "335097                1\n",
       "29103                 1\n",
       "219533                1\n",
       "347067                1\n",
       "STON/O 2. 3101294     1\n",
       "2623                  1\n",
       "A.5. 11206            1\n",
       "324669                1\n",
       "364506                1\n",
       "5727                  1\n",
       "368323                1\n",
       "349215                1\n",
       "345781                1\n",
       "349234                1\n",
       "29751                 1\n",
       "312991                1\n",
       "PC 17585              1\n",
       "C 17369               1\n",
       "370377                1\n",
       "349910                1\n",
       "350043                1\n",
       "4136                  1\n",
       "11771                 1\n",
       "SOTON/O.Q. 3101311    1\n",
       "315084                1\n",
       "349210                1\n",
       "2689                  1\n",
       "345765                1\n",
       "A/4. 20589            1\n",
       "349227                1\n",
       "323592                1\n",
       "4579                  1\n",
       "248723                1\n",
       "349207                1\n",
       "65304                 1\n",
       "11769                 1\n",
       "A/5 2466              1\n",
       "349231                1\n",
       "226593                1\n",
       "17463                 1\n",
       "A/5 3902              1\n",
       "11765                 1\n",
       "392092                1\n",
       "33638                 1\n",
       "F.C.C. 13531          1\n",
       "A./5. 3235            1\n",
       "2223                  1\n",
       "370372                1\n",
       "240929                1\n",
       "343275                1\n",
       "367229                1\n",
       "349214                1\n",
       "244361                1\n",
       "248740                1\n",
       "CA. 2314              1\n",
       "250646                1\n",
       "363294                1\n",
       "350046                1\n",
       "C.A. 6212             1\n",
       "250651                1\n",
       "31418                 1\n",
       "2685                  1\n",
       "315096                1\n",
       "28220                 1\n",
       "3101264               1\n",
       "S.W./PP 752           1\n",
       "PC 17601              1\n",
       "SC/PARIS 2131         1\n",
       "384461                1\n",
       "28206                 1\n",
       "13213                 1\n",
       "382651                1\n",
       "236171                1\n",
       "C 7076                1\n",
       "244270                1\n",
       "A/5 21171             1\n",
       "315151                1\n",
       "113028                1\n",
       "113055                1\n",
       "35852                 1\n",
       "3101267               1\n",
       "27267                 1\n",
       "31028                 1\n",
       "345780                1\n",
       "C 7077                1\n",
       "29105                 1\n",
       "36865                 1\n",
       "374746                1\n",
       "330919                1\n",
       "A/5 3594              1\n",
       "231945                1\n",
       "A/5. 2151             1\n",
       "SOTON/OQ 392086       1\n",
       "349203                1\n",
       "SO/C 14885            1\n",
       "W./C. 6609            1\n",
       "349247                1\n",
       "111428                1\n",
       "349218                1\n",
       "315153                1\n",
       "SW/PP 751             1\n",
       "6563                  1\n",
       "C.A. 33111            1\n",
       "113050                1\n",
       "243880                1\n",
       "386525                1\n",
       "29011                 1\n",
       "14311                 1\n",
       "349239                1\n",
       "113796                1\n",
       "2672                  1\n",
       "C.A. 24580            1\n",
       "8471                  1\n",
       "11774                 1\n",
       "248733                1\n",
       "392091                1\n",
       "383121                1\n",
       "349217                1\n",
       "347063                1\n",
       "W./C. 14263           1\n",
       "STON/O2. 3101290      1\n",
       "362316                1\n",
       "A/5 21174             1\n",
       "2926                  1\n",
       "218629                1\n",
       "347076                1\n",
       "C.A. 33595            1\n",
       "367231                1\n",
       "11753                 1\n",
       "3411                  1\n",
       "C.A. 5547             1\n",
       "W.E.P. 5734           1\n",
       "347064                1\n",
       "347087                1\n",
       "373450                1\n",
       "112050                1\n",
       "350035                1\n",
       "STON/O 2. 3101269     1\n",
       "28213                 1\n",
       "SC/PARIS 2133         1\n",
       "29104                 1\n",
       "A/5 21172             1\n",
       "SC/AH Basle 541       1\n",
       "28424                 1\n",
       "347071                1\n",
       "370369                1\n",
       "A/5 3540              1\n",
       "230434                1\n",
       "A/5. 851              1\n",
       "C.A./SOTON 34068      1\n",
       "315082                1\n",
       "2629                  1\n",
       "237565                1\n",
       "7546                  1\n",
       "234604                1\n",
       "342826                1\n",
       "233639                1\n",
       "3460                  1\n",
       "236853                1\n",
       "349204                1\n",
       "C 7075                1\n",
       "3101298               1\n",
       "9234                  1\n",
       "349240                1\n",
       "364500                1\n",
       "C.A. 18723            1\n",
       "W./C. 14258           1\n",
       "2663                  1\n",
       "349236                1\n",
       "A/5. 3337             1\n",
       "SC 1748               1\n",
       "PC 17592              1\n",
       "PC 17599              1\n",
       "349248                1\n",
       "345767                1\n",
       "2620                  1\n",
       "330935                1\n",
       "PC 17318              1\n",
       "349209                1\n",
       "19988                 1\n",
       "237798                1\n",
       "35851                 1\n",
       "330980                1\n",
       "347743                1\n",
       "364511                1\n",
       "370373                1\n",
       "A/4. 39886            1\n",
       "110813                1\n",
       "28665                 1\n",
       "113804                1\n",
       "26707                 1\n",
       "2686                  1\n",
       "376566                1\n",
       "236852                1\n",
       "SCO/W 1585            1\n",
       "239854                1\n",
       "349252                1\n",
       "234818                1\n",
       "315089                1\n",
       "2700                  1\n",
       "244373                1\n",
       "349205                1\n",
       "2669                  1\n",
       "113503                1\n",
       "12460                 1\n",
       "2687                  1\n",
       "PC 17605              1\n",
       "21440                 1\n",
       "19972                 1\n",
       "343276                1\n",
       "349208                1\n",
       "220367                1\n",
       "348123                1\n",
       "347089                1\n",
       "350048                1\n",
       "330923                1\n",
       "345769                1\n",
       "STON/O 2. 3101280     1\n",
       "111427                1\n",
       "STON/O2. 3101283      1\n",
       "PC 17483              1\n",
       "SC/AH 3085            1\n",
       "350417                1\n",
       "330932                1\n",
       "226875                1\n",
       "248698                1\n",
       "343095                1\n",
       "STON/O 2. 3101288     1\n",
       "STON/O 2. 3101289     1\n",
       "345774                1\n",
       "345777                1\n",
       "370371                1\n",
       "347061                1\n",
       "SC/AH 29037           1\n",
       "7540                  1\n",
       "343120                1\n",
       "16988                 1\n",
       "113794                1\n",
       "2680                  1\n",
       "2647                  1\n",
       "239855                1\n",
       "315097                1\n",
       "350060                1\n",
       "PC 17600              1\n",
       "2693                  1\n",
       "112059                1\n",
       "349201                1\n",
       "4134                  1\n",
       "A/5 3536              1\n",
       "PC 17610              1\n",
       "A.5. 18509            1\n",
       "A/5. 13032            1\n",
       "371060                1\n",
       "349224                1\n",
       "374910                1\n",
       "2625                  1\n",
       "SOTON/O.Q. 392087     1\n",
       "4135                  1\n",
       "8475                  1\n",
       "13214                 1\n",
       "SOTON/O.Q. 392078     1\n",
       "349251                1\n",
       "365222                1\n",
       "330877                1\n",
       "65306                 1\n",
       "2641                  1\n",
       "SOTON/OQ 392090       1\n",
       "Fa 265302             1\n",
       "371362                1\n",
       "347468                1\n",
       "374887                1\n",
       "367655                1\n",
       "113773                1\n",
       "2667                  1\n",
       "334912                1\n",
       "349233                1\n",
       "364850                1\n",
       "349225                1\n",
       "315086                1\n",
       "2662                  1\n",
       "112379                1\n",
       "348121                1\n",
       "364851                1\n",
       "349221                1\n",
       "111369                1\n",
       "STON/O 2. 3101292     1\n",
       "349246                1\n",
       "PC 17756              1\n",
       "36866                 1\n",
       "2683                  1\n",
       "2671                  1\n",
       "345783                1\n",
       "113056                1\n",
       "SOTON/O2 3101287      1\n",
       "SOTON/OQ 3101316      1\n",
       "350407                1\n",
       "3101276               1\n",
       "PC 17597              1\n",
       "347074                1\n",
       "PC 17590              1\n",
       "13567                 1\n",
       "12233                 1\n",
       "250653                1\n",
       "11752                 1\n",
       "233866                1\n",
       "113784                1\n",
       "349223                1\n",
       "347069                1\n",
       "113059                1\n",
       "S.C./A.4. 23567       1\n",
       "349216                1\n",
       "STON/O 2. 3101275     1\n",
       "2626                  1\n",
       "315090                1\n",
       "19947                 1\n",
       "SOTON/O.Q. 3101305    1\n",
       "250643                1\n",
       "S.O./P.P. 751         1\n",
       "347081                1\n",
       "349256                1\n",
       "234360                1\n",
       "C.A. 17248            1\n",
       "349253                1\n",
       "349254                1\n",
       "13568                 1\n",
       "2003                  1\n",
       "7598                  1\n",
       "349244                1\n",
       "PC 17596              1\n",
       "244358                1\n",
       "A./5. 2152            1\n",
       "349245                1\n",
       "2694                  1\n",
       "345572                1\n",
       "C 4001                1\n",
       "113788                1\n",
       "PC 17474              1\n",
       "3101265               1\n",
       "347060                1\n",
       "350404                1\n",
       "234686                1\n",
       "4138                  1\n",
       "65303                 1\n",
       "PC 17754              1\n",
       "350047                1\n",
       "S.O.P. 1166           1\n",
       "111240                1\n",
       "394140                1\n",
       "28134                 1\n",
       "382649                1\n",
       "PC 17759              1\n",
       "SC/Paris 2163         1\n",
       "364846                1\n",
       "C.A. 29178            1\n",
       "Name: Ticket, dtype: int64"
      ]
     },
     "execution_count": 27,
     "metadata": {},
     "output_type": "execute_result"
    }
   ],
   "source": [
    "train_df['Ticket'].value_counts()"
   ]
  },
  {
   "cell_type": "code",
   "execution_count": 28,
   "metadata": {},
   "outputs": [
    {
     "data": {
      "text/plain": [
       "B96 B98            4\n",
       "C23 C25 C27        4\n",
       "G6                 4\n",
       "E101               3\n",
       "D                  3\n",
       "F33                3\n",
       "F2                 3\n",
       "C22 C26            3\n",
       "D26                2\n",
       "E67                2\n",
       "C124               2\n",
       "D17                2\n",
       "B51 B53 B55        2\n",
       "D35                2\n",
       "C52                2\n",
       "C92                2\n",
       "C78                2\n",
       "D36                2\n",
       "D33                2\n",
       "F G73              2\n",
       "C126               2\n",
       "C83                2\n",
       "D20                2\n",
       "C65                2\n",
       "B18                2\n",
       "C93                2\n",
       "B58 B60            2\n",
       "E121               2\n",
       "E8                 2\n",
       "E44                2\n",
       "E33                2\n",
       "E24                2\n",
       "B22                2\n",
       "F4                 2\n",
       "B57 B59 B63 B66    2\n",
       "C123               2\n",
       "E25                2\n",
       "B77                2\n",
       "B35                2\n",
       "C2                 2\n",
       "C125               2\n",
       "B28                2\n",
       "C68                2\n",
       "B20                2\n",
       "B5                 2\n",
       "B49                2\n",
       "C128               1\n",
       "B4                 1\n",
       "C82                1\n",
       "B101               1\n",
       "D6                 1\n",
       "C101               1\n",
       "C110               1\n",
       "A31                1\n",
       "B50                1\n",
       "C47                1\n",
       "C118               1\n",
       "B94                1\n",
       "C148               1\n",
       "E68                1\n",
       "B80                1\n",
       "E12                1\n",
       "D46                1\n",
       "A16                1\n",
       "E77                1\n",
       "C104               1\n",
       "A6                 1\n",
       "C50                1\n",
       "A32                1\n",
       "A5                 1\n",
       "D28                1\n",
       "C62 C64            1\n",
       "C30                1\n",
       "A7                 1\n",
       "D47                1\n",
       "E31                1\n",
       "D30                1\n",
       "C85                1\n",
       "E58                1\n",
       "B71                1\n",
       "B79                1\n",
       "A20                1\n",
       "C111               1\n",
       "C95                1\n",
       "A19                1\n",
       "D9                 1\n",
       "D15                1\n",
       "D45                1\n",
       "C45                1\n",
       "E36                1\n",
       "B19                1\n",
       "A34                1\n",
       "D37                1\n",
       "E17                1\n",
       "F38                1\n",
       "D50                1\n",
       "T                  1\n",
       "D19                1\n",
       "A26                1\n",
       "D48                1\n",
       "C106               1\n",
       "B39                1\n",
       "D56                1\n",
       "C70                1\n",
       "C49                1\n",
       "B41                1\n",
       "B86                1\n",
       "C32                1\n",
       "E38                1\n",
       "E49                1\n",
       "C54                1\n",
       "B3                 1\n",
       "C86                1\n",
       "E63                1\n",
       "E50                1\n",
       "F E69              1\n",
       "D49                1\n",
       "B69                1\n",
       "A36                1\n",
       "B73                1\n",
       "D10 D12            1\n",
       "A14                1\n",
       "B37                1\n",
       "C99                1\n",
       "A10                1\n",
       "B78                1\n",
       "C90                1\n",
       "C103               1\n",
       "E10                1\n",
       "A24                1\n",
       "B38                1\n",
       "B30                1\n",
       "D11                1\n",
       "A23                1\n",
       "F G63              1\n",
       "B102               1\n",
       "E40                1\n",
       "C7                 1\n",
       "E34                1\n",
       "D7                 1\n",
       "C91                1\n",
       "E46                1\n",
       "C87                1\n",
       "D21                1\n",
       "B42                1\n",
       "C46                1\n",
       "B82 B84            1\n",
       "Name: Cabin, dtype: int64"
      ]
     },
     "execution_count": 28,
     "metadata": {},
     "output_type": "execute_result"
    }
   ],
   "source": [
    "train_df['Cabin'].value_counts()"
   ]
  },
  {
   "cell_type": "markdown",
   "metadata": {},
   "source": [
    "## EDA: PART C"
   ]
  },
  {
   "cell_type": "code",
   "execution_count": 29,
   "metadata": {},
   "outputs": [
    {
     "data": {
      "text/plain": [
       "<matplotlib.axes._subplots.AxesSubplot at 0x11f461c18>"
      ]
     },
     "execution_count": 29,
     "metadata": {},
     "output_type": "execute_result"
    },
    {
     "data": {
      "image/png": "[encoded data removed]",
      "text/plain": [
       "<Figure size 432x288 with 1 Axes>"
      ]
     },
     "metadata": {
      "needs_background": "light"
     },
     "output_type": "display_data"
    }
   ],
   "source": [
    "sns.boxplot(train_df['Age'])"
   ]
  },
  {
   "cell_type": "code",
   "execution_count": 30,
   "metadata": {},
   "outputs": [
    {
     "data": {
      "text/plain": [
       "<matplotlib.axes._subplots.AxesSubplot at 0x11f5329b0>"
      ]
     },
     "execution_count": 30,
     "metadata": {},
     "output_type": "execute_result"
    },
    {
     "data": {
      "image/png": "[encoded data removed]",
      "text/plain": [
       "<Figure size 432x288 with 1 Axes>"
      ]
     },
     "metadata": {
      "needs_background": "light"
     },
     "output_type": "display_data"
    }
   ],
   "source": [
    "sns.distplot(train_df[train_df.Age.notnull()].Age)"
   ]
  },
  {
   "cell_type": "code",
   "execution_count": 31,
   "metadata": {},
   "outputs": [
    {
     "data": {
      "text/plain": [
       "<matplotlib.axes._subplots.AxesSubplot at 0x11f620438>"
      ]
     },
     "execution_count": 31,
     "metadata": {},
     "output_type": "execute_result"
    },
    {
     "data": {
      "image/png": "[encoded data removed]",
      "text/plain": [
       "<Figure size 432x288 with 1 Axes>"
      ]
     },
     "metadata": {
      "needs_background": "light"
     },
     "output_type": "display_data"
    }
   ],
   "source": [
    "sns.boxplot(train_df['Fare'])"
   ]
  },
  {
   "cell_type": "code",
   "execution_count": 32,
   "metadata": {},
   "outputs": [
    {
     "data": {
      "text/plain": [
       "<matplotlib.axes._subplots.AxesSubplot at 0x11f66c668>"
      ]
     },
     "execution_count": 32,
     "metadata": {},
     "output_type": "execute_result"
    },
    {
     "data": {
      "image/png": "[encoded data removed]",
      "text/plain": [
       "<Figure size 432x288 with 1 Axes>"
      ]
     },
     "metadata": {
      "needs_background": "light"
     },
     "output_type": "display_data"
    }
   ],
   "source": [
    "sns.distplot(train_df[train_df.Fare.notnull()].Fare)"
   ]
  },
  {
   "cell_type": "markdown",
   "metadata": {},
   "source": [
    "## EDA: PART D"
   ]
  },
  {
   "cell_type": "code",
   "execution_count": 33,
   "metadata": {},
   "outputs": [
    {
     "data": {
      "image/png": "[encoded data removed]",
      "text/plain": [
       "<Figure size 432x288 with 1 Axes>"
      ]
     },
     "metadata": {
      "needs_background": "light"
     },
     "output_type": "display_data"
    }
   ],
   "source": [
    "label_chart(sns.countplot(train_df['Survived'], hue=train_df['Pclass']))"
   ]
  },
  {
   "cell_type": "code",
   "execution_count": 34,
   "metadata": {},
   "outputs": [
    {
     "data": {
      "image/png": "[encoded data removed]",
      "text/plain": [
       "<Figure size 432x288 with 1 Axes>"
      ]
     },
     "metadata": {
      "needs_background": "light"
     },
     "output_type": "display_data"
    }
   ],
   "source": [
    "label_chart(sns.countplot(train_df['Survived'], hue=train_df['Sex']))"
   ]
  },
  {
   "cell_type": "code",
   "execution_count": 35,
   "metadata": {},
   "outputs": [
    {
     "data": {
      "image/png": "[encoded data removed]",
      "text/plain": [
       "<Figure size 432x288 with 1 Axes>"
      ]
     },
     "metadata": {
      "needs_background": "light"
     },
     "output_type": "display_data"
    }
   ],
   "source": [
    "label_chart(sns.countplot(train_df['Survived'], hue=train_df['Embarked']))"
   ]
  },
  {
   "cell_type": "code",
   "execution_count": 36,
   "metadata": {},
   "outputs": [
    {
     "data": {
      "image/png": "[encoded data removed]",
      "text/plain": [
       "<Figure size 432x288 with 1 Axes>"
      ]
     },
     "metadata": {
      "needs_background": "light"
     },
     "output_type": "display_data"
    }
   ],
   "source": [
    "label_chart(sns.countplot(train_df['Survived'], hue=train_df['SibSp']))"
   ]
  },
  {
   "cell_type": "code",
   "execution_count": 37,
   "metadata": {
    "scrolled": true
   },
   "outputs": [
    {
     "data": {
      "image/png": "[encoded data removed]",
      "text/plain": [
       "<Figure size 432x288 with 1 Axes>"
      ]
     },
     "metadata": {
      "needs_background": "light"
     },
     "output_type": "display_data"
    }
   ],
   "source": [
    "label_chart(sns.countplot(train_df['Survived'], hue=train_df['Parch']))"
   ]
  },
  {
   "cell_type": "code",
   "execution_count": 51,
   "metadata": {},
   "outputs": [
    {
     "data": {
      "image/png": "[encoded data removed]",
      "text/plain": [
       "<Figure size 432x288 with 1 Axes>"
      ]
     },
     "metadata": {
      "needs_background": "light"
     },
     "output_type": "display_data"
    }
   ],
   "source": [
    "label_chart(sns.barplot(x='Pclass', y='Age', data=train_df, hue='Survived', ci=None), points='.2f')"
   ]
  },
  {
   "cell_type": "code",
   "execution_count": 39,
   "metadata": {},
   "outputs": [
    {
     "data": {
      "image/png": "[encoded data removed]",
      "text/plain": [
       "<Figure size 432x288 with 1 Axes>"
      ]
     },
     "metadata": {
      "needs_background": "light"
     },
     "output_type": "display_data"
    }
   ],
   "source": [
    "label_chart(sns.barplot(x='Sex', y='Age', data=train_df, hue='Survived', ci=None), points='.2f')"
   ]
  },
  {
   "cell_type": "code",
   "execution_count": 40,
   "metadata": {},
   "outputs": [
    {
     "data": {
      "image/png": "[encoded data removed]",
      "text/plain": [
       "<Figure size 432x288 with 1 Axes>"
      ]
     },
     "metadata": {
      "needs_background": "light"
     },
     "output_type": "display_data"
    }
   ],
   "source": [
    "label_chart(sns.barplot(x='Embarked', y='Age', data=train_df, hue='Survived', ci=None), points='.2f')"
   ]
  },
  {
   "cell_type": "code",
   "execution_count": 41,
   "metadata": {},
   "outputs": [
    {
     "data": {
      "image/png": "[encoded data removed]",
      "text/plain": [
       "<Figure size 432x288 with 1 Axes>"
      ]
     },
     "metadata": {
      "needs_background": "light"
     },
     "output_type": "display_data"
    }
   ],
   "source": [
    "label_chart(sns.barplot(x='SibSp', y='Age', data=train_df, hue='Survived', ci=None), points='.2f')"
   ]
  },
  {
   "cell_type": "code",
   "execution_count": 42,
   "metadata": {},
   "outputs": [
    {
     "data": {
      "image/png": "[encoded data removed]",
      "text/plain": [
       "<Figure size 432x288 with 1 Axes>"
      ]
     },
     "metadata": {
      "needs_background": "light"
     },
     "output_type": "display_data"
    }
   ],
   "source": [
    "label_chart(sns.barplot(x='Parch', y='Age', data=train_df, hue='Survived', ci=None), points='.2f')"
   ]
  },
  {
   "cell_type": "code",
   "execution_count": 43,
   "metadata": {},
   "outputs": [
    {
     "data": {
      "image/png": "[encoded data removed]",
      "text/plain": [
       "<Figure size 432x288 with 1 Axes>"
      ]
     },
     "metadata": {
      "needs_background": "light"
     },
     "output_type": "display_data"
    }
   ],
   "source": [
    "label_chart(sns.barplot(x='Pclass', y='Fare', data=train_df, hue='Survived', ci=None), points='.2f')"
   ]
  },
  {
   "cell_type": "code",
   "execution_count": 45,
   "metadata": {},
   "outputs": [
    {
     "data": {
      "image/png": "[encoded data removed]",
      "text/plain": [
       "<Figure size 432x288 with 1 Axes>"
      ]
     },
     "metadata": {
      "needs_background": "light"
     },
     "output_type": "display_data"
    }
   ],
   "source": [
    "label_chart(sns.barplot(x='Sex', y='Fare', data=train_df, hue='Survived', ci=None), points='.2f')"
   ]
  },
  {
   "cell_type": "code",
   "execution_count": 46,
   "metadata": {},
   "outputs": [
    {
     "data": {
      "image/png": "[encoded data removed]",
      "text/plain": [
       "<Figure size 432x288 with 1 Axes>"
      ]
     },
     "metadata": {
      "needs_background": "light"
     },
     "output_type": "display_data"
    }
   ],
   "source": [
    "label_chart(sns.barplot(x='Embarked', y='Fare', data=train_df, hue='Survived', ci=None), points='.2f')"
   ]
  },
  {
   "cell_type": "code",
   "execution_count": 47,
   "metadata": {},
   "outputs": [
    {
     "data": {
      "image/png": "[encoded data removed]",
      "text/plain": [
       "<Figure size 432x288 with 1 Axes>"
      ]
     },
     "metadata": {
      "needs_background": "light"
     },
     "output_type": "display_data"
    }
   ],
   "source": [
    "label_chart(sns.barplot(x='SibSp', y='Fare', data=train_df, hue='Survived', ci=None), points='.2f')"
   ]
  },
  {
   "cell_type": "code",
   "execution_count": 48,
   "metadata": {},
   "outputs": [
    {
     "data": {
      "image/png": "[encoded data removed]",
      "text/plain": [
       "<Figure size 432x288 with 1 Axes>"
      ]
     },
     "metadata": {
      "needs_background": "light"
     },
     "output_type": "display_data"
    }
   ],
   "source": [
    "label_chart(sns.barplot(x='Parch', y='Fare', data=train_df, hue='Survived', ci=None), points='.2f')"
   ]
  },
  {
   "cell_type": "code",
   "execution_count": 49,
   "metadata": {
    "scrolled": true
   },
   "outputs": [
    {
     "data": {
      "text/plain": [
       "<seaborn.axisgrid.PairGrid at 0x11f190518>"
      ]
     },
     "execution_count": 49,
     "metadata": {},
     "output_type": "execute_result"
    },
    {
     "data": {
      "image/png": "[encoded data removed]",
      "text/plain": [
       "<Figure size 1080x1080 with 42 Axes>"
      ]
     },
     "metadata": {
      "needs_background": "light"
     },
     "output_type": "display_data"
    }
   ],
   "source": [
    "sns.pairplot(train_df.drop('PassengerId', axis=1))"
   ]
  }
 ],
 "metadata": {
  "kernelspec": {
   "display_name": "Python 3",
   "language": "python",
   "name": "python3"
  },
  "language_info": {
   "codemirror_mode": {
    "name": "ipython",
    "version": 3
   },
   "file_extension": ".py",
   "mimetype": "text/x-python",
   "name": "python",
   "nbconvert_exporter": "python",
   "pygments_lexer": "ipython3",
   "version": "3.7.3"
  }
 },
 "nbformat": 4,
 "nbformat_minor": 2
}
